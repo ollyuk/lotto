{
 "cells": [
  {
   "cell_type": "code",
   "execution_count": 78,
   "id": "83f63a67-2ecd-4d58-8ce5-e8164e98a684",
   "metadata": {
    "tags": []
   },
   "outputs": [],
   "source": [
    "import numpy as np\n",
    "import matplotlib.pyplot as plt\n",
    "from collections import Counter\n"
   ]
  },
  {
   "cell_type": "code",
   "execution_count": 99,
   "id": "60e50f13-a128-443a-8f9e-cefc75523bab",
   "metadata": {
    "tags": []
   },
   "outputs": [],
   "source": [
    "# 2089, Wed,30,Dec,2015, 22,31,47,52,55,59,23,  42659372,    0,   Arthur   ,  5 \n",
    "cols_to_pick = (5,6,7,8,9,10)\n",
    "d_2015 = np.loadtxt(\"data/2015.csv\", skiprows=0, usecols=(cols_to_pick), delimiter=',', dtype=int)\n",
    "d_2016 = np.loadtxt(\"data/2016.csv\", skiprows=0, usecols=(cols_to_pick), delimiter=',', dtype=int)\n",
    "d_2017 = np.loadtxt(\"data/2017.csv\", skiprows=0, usecols=(cols_to_pick), delimiter=',', dtype=int)\n",
    "d_2018 = np.loadtxt(\"data/2018.csv\", skiprows=0, usecols=(cols_to_pick), delimiter=',', dtype=int)\n",
    "d_2019 = np.loadtxt(\"data/2019.csv\", skiprows=0, usecols=(cols_to_pick), delimiter=',', dtype=int)\n",
    "d_2020 = np.loadtxt(\"data/2020.csv\", skiprows=0, usecols=(cols_to_pick), delimiter=',', dtype=int)\n",
    "d_2021 = np.loadtxt(\"data/2021.csv\", skiprows=0, usecols=(cols_to_pick), delimiter=',', dtype=int)\n",
    "d_2022 = np.loadtxt(\"data/2022.csv\", skiprows=0, usecols=(cols_to_pick), delimiter=',', dtype=int)\n",
    "d_2023 = np.loadtxt(\"data/2023.csv\", skiprows=0, usecols=(cols_to_pick), delimiter=',', dtype=int)"
   ]
  },
  {
   "cell_type": "code",
   "execution_count": 100,
   "id": "95c30cf9-1884-4789-b41e-5dfb00a77b5c",
   "metadata": {
    "tags": []
   },
   "outputs": [
    {
     "name": "stdout",
     "output_type": "stream",
     "text": [
      "24\n",
      "105\n",
      "104\n",
      "104\n",
      "104\n",
      "105\n",
      "104\n",
      "105\n",
      "74\n",
      "829\n"
     ]
    }
   ],
   "source": [
    "total = 0 \n",
    "for draw in (d_2015, d_2016, d_2017, d_2018, d_2019, d_2020, d_2021, d_2022, d_2023):\n",
    "    print(len(draw))\n",
    "    total += len(draw)\n",
    "print(total)"
   ]
  },
  {
   "cell_type": "code",
   "execution_count": 101,
   "id": "0bd21031-8b53-4862-85d1-906bcf285a79",
   "metadata": {
    "tags": []
   },
   "outputs": [],
   "source": [
    "draws_data = np.concatenate((d_2015, d_2016, d_2017, d_2018, d_2019, d_2020, d_2021, d_2022, d_2023))"
   ]
  },
  {
   "cell_type": "code",
   "execution_count": 102,
   "id": "b2f1f41d-9f57-40c4-92d4-ddb1c07cc4be",
   "metadata": {
    "tags": []
   },
   "outputs": [
    {
     "data": {
      "text/plain": [
       "829"
      ]
     },
     "execution_count": 102,
     "metadata": {},
     "output_type": "execute_result"
    }
   ],
   "source": [
    "len(draws_data)"
   ]
  },
  {
   "cell_type": "code",
   "execution_count": 103,
   "id": "039b5d6c-4723-4fa1-8e70-38ab1bc2d579",
   "metadata": {
    "tags": []
   },
   "outputs": [],
   "source": [
    "# count the number of times each number is drawn\n",
    "dict_of_picks = Counter()\n",
    "for draw in draws_data:\n",
    "    for pick in draw:\n",
    "        dict_of_picks[pick]+=1 "
   ]
  },
  {
   "cell_type": "code",
   "execution_count": 104,
   "id": "a407cb45-0885-412e-a962-cffcb4ffd341",
   "metadata": {
    "tags": []
   },
   "outputs": [
    {
     "data": {
      "text/plain": [
       "[(52, 105),\n",
       " (39, 103),\n",
       " (58, 101),\n",
       " (37, 99),\n",
       " (36, 95),\n",
       " (27, 94),\n",
       " (42, 94),\n",
       " (54, 92),\n",
       " (13, 91),\n",
       " (8, 91)]"
      ]
     },
     "execution_count": 104,
     "metadata": {},
     "output_type": "execute_result"
    }
   ],
   "source": [
    "dict_of_picks.most_common(10)"
   ]
  },
  {
   "cell_type": "code",
   "execution_count": 77,
   "id": "133a14f4-6ae8-44b6-b2bb-fb21a562db3f",
   "metadata": {
    "tags": []
   },
   "outputs": [
    {
     "data": {
      "text/plain": [
       "792"
      ]
     },
     "execution_count": 77,
     "metadata": {},
     "output_type": "execute_result"
    }
   ],
   "source": [
    "np.save('all_data.csv', "
   ]
  },
  {
   "cell_type": "code",
   "execution_count": 58,
   "id": "e98856a0-4001-4ecc-b04e-cfe6d43d7efe",
   "metadata": {
    "tags": []
   },
   "outputs": [
    {
     "data": {
      "image/png": "[encoded data removed]",
      "text/plain": [
       "<Figure size 640x480 with 1 Axes>"
      ]
     },
     "metadata": {},
     "output_type": "display_data"
    }
   ],
   "source": [
    "\n",
    "# Create a histogram\n",
    "plt.hist(dict_of_picks, bins=20, color='blue', alpha=0.7)\n",
    "plt.xlabel('Values')\n",
    "plt.ylabel('Frequency')\n",
    "plt.title('Distribution Chart')\n",
    "\n",
    "# Show the chart\n",
    "plt.show()"
   ]
  },
  {
   "cell_type": "code",
   "execution_count": 66,
   "id": "93684f7b-9101-411e-929f-a348f7dc6b3b",
   "metadata": {
    "tags": []
   },
   "outputs": [],
   "source": [
    "# prepare teh data from mersyworld\n",
    "draws_missing = np.loadtxt(\"data/lotto_history-2020-2023.csv\", skiprows=0, usecols=(5,6,7,8,9,10,11), delimiter=',', dtype=int)\n",
    "\n"
   ]
  },
  {
   "cell_type": "code",
   "execution_count": 69,
   "id": "eae43fb3-baed-4304-adf1-9f39b77d4646",
   "metadata": {
    "tags": []
   },
   "outputs": [
    {
     "data": {
      "text/plain": [
       "792"
      ]
     },
     "execution_count": 69,
     "metadata": {},
     "output_type": "execute_result"
    }
   ],
   "source": [
    "307+485"
   ]
  },
  {
   "cell_type": "code",
   "execution_count": 72,
   "id": "58915b1e-60a7-473b-befb-2b0f05202d18",
   "metadata": {
    "tags": []
   },
   "outputs": [
    {
     "data": {
      "text/plain": [
       "792"
      ]
     },
     "execution_count": 72,
     "metadata": {},
     "output_type": "execute_result"
    }
   ],
   "source": [
    "len(all_draws)"
   ]
  },
  {
   "cell_type": "code",
   "execution_count": null,
   "id": "26021e44-5871-4807-91a5-039fe34c508e",
   "metadata": {},
   "outputs": [],
   "source": []
  }
 ],
 "metadata": {
  "kernelspec": {
   "display_name": "Python 3 (ipykernel)",
   "language": "python",
   "name": "python3"
  },
  "language_info": {
   "codemirror_mode": {
    "name": "ipython",
    "version": 3
   },
   "file_extension": ".py",
   "mimetype": "text/x-python",
   "name": "python",
   "nbconvert_exporter": "python",
   "pygments_lexer": "ipython3",
   "version": "3.10.5"
  }
 },
 "nbformat": 4,
 "nbformat_minor": 5
}
